{
 "cells": [
  {
   "cell_type": "markdown",
   "metadata": {},
   "source": [
    "## Circle Packing\n",
    "Idea:\n",
    "Form the problem as an optimization problem with bounds and contraints, use python scipy.optimizer package to solve it. Inputs of the algorithm are circle radius list $R$, length $L$ and width $W$ of the rectangle. Outputs are a list of circles, with each circle represented as a list $[x,y,r]$. The plot function is used for visualizing the results.\n",
    "\n",
    "Method:\n",
    "\n",
    "$\\min -\\sum_i p_i\\pi r_i^2$, where $p_i$ is a binary variable for indicating wether this circle is kept or not.\n",
    "\n",
    "s.t. \n",
    "\n",
    "$(x_i-x_j)^2+(y_i-y_j)^2\\geq(r_i+r_j)^2, \\forall i\\neq j$, which is the distance condition.\n",
    "\n",
    "$r_i\\leq x_i\\leq L-r, \\forall i$, which is the boundary condition.\n",
    "      \n",
    "$r_i\\leq y_i \\leq W-r, \\forall i$, which is the boundary condition.\n",
    "\n",
    "$p_i(1-p_i)=0, \\forall i$, which is the binary constraints of $p_i$.\n",
    "\n",
    "Codes are as follows:\n",
    "\n"
   ]
  },
  {
   "cell_type": "code",
   "execution_count": 63,
   "metadata": {},
   "outputs": [],
   "source": [
    "import numpy as np\n",
    "from scipy.optimize import minimize"
   ]
  },
  {
   "cell_type": "code",
   "execution_count": 58,
   "metadata": {},
   "outputs": [],
   "source": [
    "def plot(l,w, circle_list):\n",
    "    ''' Visualize results. '''\n",
    "    import matplotlib.pyplot as plt\n",
    "\n",
    "    plt.figure(figsize=(l,w))\n",
    "    for x,y,r in circle_list:\n",
    "        circle1=plt.Circle((x,y),r,color='black', fill=False)\n",
    "        plt.gcf().gca().add_artist(circle1)\n",
    "    plt.gca().set_aspect('equal', adjustable='box')\n",
    "    plt.xlim(0, l)\n",
    "    plt.ylim(0, w)"
   ]
  },
  {
   "cell_type": "code",
   "execution_count": 211,
   "metadata": {},
   "outputs": [],
   "source": [
    "def generator(k):\n",
    "    ''' \n",
    "    Generate random radius list. \n",
    "    Input: k\n",
    "    Return: circle redius list\n",
    "    '''\n",
    "    r_list=[]\n",
    "    for _ in range(k):\n",
    "        r=np.random.uniform(0.1,1)\n",
    "        r_list.append(r)\n",
    "        \n",
    "    return r_list\n"
   ]
  },
  {
   "cell_type": "code",
   "execution_count": 217,
   "metadata": {},
   "outputs": [],
   "source": [
    "def check_valid(r_list, l, w):\n",
    "    '''\n",
    "    Check redius list. Assume all circles smaller than rectangle. \n",
    "    ''' \n",
    "    if np.max(r_list)>l/2. or np.max(r_list)>w/2.:\n",
    "        print('There exists circle larger than the rectangle!')\n",
    "        return False\n",
    "    else:\n",
    "        return True"
   ]
  },
  {
   "cell_type": "code",
   "execution_count": 227,
   "metadata": {},
   "outputs": [],
   "source": [
    "def packing(r_list, l, w):\n",
    "    ''' \n",
    "    Circle packing.\n",
    "    Input: circle radius list, length of rectangle, width of rectangle\n",
    "    Return: list of circles, each circle is represented as [x,y,r]\n",
    "    '''\n",
    "    circle_list=[]\n",
    "    # random\n",
    "    for i in range(len(r_list)):\n",
    "        x=np.random.uniform(0,l)\n",
    "        y=np.random.uniform(0,w)\n",
    "        circle_list.append([x,y,r_list[i]])\n",
    "    \n",
    "    # optimize\n",
    "    def objective(pxy, r_list):  # pxy is the list of optimizing variables, (p1, x1, y1, p2, x2, y2, ...)\n",
    "        obj=0\n",
    "        for i in range(len(r_list)):\n",
    "            obj-=np.pi*r_list[i]**2*pxy[3*i]\n",
    "        return obj\n",
    "    \n",
    "    def constraint1(pxy, i, j, r_list):\n",
    "        ''' (xi-xj)**2 + (yi-yj)**2 >= (ri+rj)**2'''\n",
    "        x_i=pxy[3*i+1]\n",
    "        x_j=pxy[3*j+1]\n",
    "        y_i=pxy[3*i+2]\n",
    "        y_j=pxy[3*j+2]\n",
    "        return (x_i-x_j)**2 + (y_i-y_j)**2 - (r_list[i]+r_list[j])**2\n",
    "#         return ((x_i-x_j)**2 + (y_i-y_j)**2 - (r_list[i]+r_list[j])**2)*pxy[3*i]*pxy[3*j]  # as pi is not always 0 or 1 in optimization, not work!\n",
    "    \n",
    "    def constraint2(pxy, i):\n",
    "        ''' pi(1-pi)=0 '''\n",
    "        p_i=pxy[3*i]\n",
    "        return p_i*(1-p_i)\n",
    "    \n",
    "    # bounds \n",
    "    bnds=()\n",
    "    for i in range(len(r_list)):\n",
    "        bnds+=((0., 1.),)\n",
    "        bnds+=((r_list[i], l-r_list[i]),)\n",
    "        bnds+=((r_list[i], w-r_list[i]),)\n",
    "        \n",
    "    # constraints\n",
    "    cons=[]\n",
    "    for i in range(len(r_list)):\n",
    "        for j in range(i, len(r_list)):\n",
    "            cons.append({'type': 'ineq', 'fun': constraint1, 'args': (i,j, r_list)})\n",
    "    \n",
    "    for i in range(len(r_list)):\n",
    "        cons.append({'type': 'eq', 'fun': constraint2, 'args': (i,)})\n",
    "        \n",
    "    pxy0=np.ones(3*len(r_list)) # initialization\n",
    "#     res = minimize(objective, pxy0, args=(r_list,), method='SLSQP', bounds=bnds, constraints=cons)\n",
    "    res = minimize(objective, pxy0, args=(r_list,), method='trust-constr',options={'verbose': 1}, bounds=bnds, constraints=cons)\n",
    "#     print(res)\n",
    "\n",
    "    unchosen_idx=[]\n",
    "    for i in range(len(r_list)):\n",
    "        if res.x[3*i]<0.5:  # circle not gonna be plotted in the rectangle if p_i close to 0 (<0.5 here)\n",
    "            unchosen_idx.append(i)\n",
    "        else: # update circle position from optimization\n",
    "            circle_list[i][0]=res.x[3*i+1]\n",
    "            circle_list[i][1]=res.x[3*i+2]\n",
    "    circle_list=np.delete(circle_list, unchosen_idx, 0)\n",
    "    print(circle_list)\n",
    "    return circle_list\n",
    "\n",
    "\n",
    "\n",
    "        "
   ]
  },
  {
   "cell_type": "markdown",
   "metadata": {},
   "source": [
    "## Interface for assigning variables here:"
   ]
  },
  {
   "cell_type": "code",
   "execution_count": 229,
   "metadata": {},
   "outputs": [
    {
     "name": "stdout",
     "output_type": "stream",
     "text": [
      "The maximum number of function evaluations is exceeded.\n",
      "Number of iterations: 1001, function evaluations: 22044, CG iterations: 1280, optimality: 6.54e-02, constraint violation: 3.26e+00, execution time: 2.9e+01 s.\n",
      "[[ 0.5130838   0.89700209  0.67788881]\n",
      " [ 2.26523433  2.58859253  0.90240118]\n",
      " [ 0.61259747  2.37514836  0.64466079]\n",
      " [ 3.71922502  0.4714253   0.28723555]\n",
      " [ 3.56635689  1.8369769   0.50394477]\n",
      " [ 2.5688613   0.6873695   0.69855454]\n",
      " [ 1.42814625  0.24202498  0.35505969]]\n"
     ]
    },
    {
     "data": {
      "image/png": "[encoded data removed]",
      "text/plain": [
       "<Figure size 288x216 with 1 Axes>"
      ]
     },
     "metadata": {
      "needs_background": "light"
     },
     "output_type": "display_data"
    }
   ],
   "source": [
    "L=4\n",
    "W=3\n",
    "k=7\n",
    "R=generator(k)  # randomly generate circle radius list; replace with given R\n",
    "if check_valid(R, L, W):\n",
    "    circleList=packing(R, L, W)\n",
    "    plot(L,W, circleList)  # visualize the results\n",
    "else:\n",
    "    pass"
   ]
  },
  {
   "cell_type": "markdown",
   "metadata": {},
   "source": [
    "## Results: \n",
    "it seems this method can solve the problem to some extent, but not very well. It can work fine for the cases when the circles are relatively sparse in the rectangle, which means the overlapping constraints are handled well. But when the circles are dense in the space (some cannot be hold in the rectangle), it cannot optimize well to discard some of the circles. As the binary constraints $p_i(1-p_i)=0$ for the objective seems cannot be solved well with off-the-shelf optimizer provided by Scipy, due to the highly non-convexity of the problem."
   ]
  },
  {
   "cell_type": "markdown",
   "metadata": {},
   "source": [
    "## The bonus part:\n",
    "It can be solved with assigning a term for position of circles in the objective formula. Simply change the original objective to be $\\min -\\sum_i p_i\\pi r_i^2+\\lambda \\sum_i((x_i-L/2)^2+(y_i-W/2)^2)$, where $\\lambda$ is a positive tradeoff factor between two objectivs."
   ]
  },
  {
   "cell_type": "code",
   "execution_count": null,
   "metadata": {},
   "outputs": [],
   "source": []
  }
 ],
 "metadata": {
  "kernelspec": {
   "display_name": "Python 3",
   "language": "python",
   "name": "python3"
  },
  "language_info": {
   "codemirror_mode": {
    "name": "ipython",
    "version": 2
   },
   "file_extension": ".py",
   "mimetype": "text/x-python",
   "name": "python",
   "nbconvert_exporter": "python",
   "pygments_lexer": "ipython2",
   "version": "2.7.15"
  }
 },
 "nbformat": 4,
 "nbformat_minor": 2
}
